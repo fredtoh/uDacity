{
 "cells": [
  {
   "cell_type": "markdown",
   "metadata": {},
   "source": [
    "# P2 Investigate a Dataset\n",
    "## Titanic Survivors\n",
    "\n",
    "In this project, with the use of Python and its Numpy, Pandas, Matplotlib packages, as well as the Statsmodels package, I examine a set of passenger and crew information onboard the Titanic, a British passenger liner that sank on 15 April 1912 about 370 miles off the coast of Newfoundland on her maiden voyage between Southampthon and New York From history, we are informed that out of the 2224 passengers and crew onboard, 1502 did not survive, making this one of the most disastrous shipwrecks in history.\n",
    "\n",
    "The dataset, containing 891 passenger records, is obtained from the [Kaggle website]( https://www.kaggle.com/c/titanic/data \"Data Source\"). "
   ]
  },
  {
   "cell_type": "markdown",
   "metadata": {},
   "source": [
    "## Overview\n",
    "\n",
    "In this analysis project, my goal is to explore what factors are involved for a Titanic passenger surviving the tragedy. I approach this goal by first asking the following questions:\n",
    "\n",
    "* What is the demographics of the passengers onboard the Titanic?\n",
    "* Does age make a difference among those who survived and those who did not?\n",
    "* Does gender make a difference?\n",
    "* How about the passenger class assignment?\n",
    "* If the passenger traveled with family members, how does the survival rate differ?\n",
    "\n",
    "Bearing in mind that the set of 891 records is not complete, since we are informed through historical sources of 2224 passengers and crew, I will only explore what might likely be the case for the records I have obtained. It will be an assumption that these results may apply to the rest in the Titanic tragedy.\n",
    "\n",
    "I will be relying on the pandas package to do the heavy lifting of data-wrangling, as well as plotting. There will be occasions I use the numpy and the matplotlib packages to access their functions. Statistical tests will be carried out using the statsmodels package."
   ]
  },
  {
   "cell_type": "markdown",
   "metadata": {},
   "source": [
    "## Titanic Dataset\n",
    "\n",
    "The data records are stored in a .csv (comma-separated value) file. Each row contains a passenger record and each record has a value stored in each column. Thus each column may be treated as a data variable. Below shows the python code to load up the data and stored as a Pandas dataframe, named as _df_."
   ]
  },
  {
   "cell_type": "code",
   "execution_count": 32,
   "metadata": {
    "collapsed": false
   },
   "outputs": [],
   "source": [
    "### Import python packages\n",
    "import pandas as pd\n",
    "import numpy as np\n",
    "import matplotlib.pyplot as plt\n",
    "%matplotlib inline\n",
    "plt.style.use('ggplot')\n",
    "plt.style.use('seaborn-white')\n",
    "\n",
    "### Load the dataset into a pandas dataframe\n",
    "df = pd.read_csv('titanic_data.csv')\n"
   ]
  },
  {
   "cell_type": "code",
   "execution_count": 33,
   "metadata": {
    "collapsed": false
   },
   "outputs": [
    {
     "name": "stdout",
     "output_type": "stream",
     "text": [
      "Number of records:  891 \n",
      "\n",
      "Variable names:\n",
      "['PassengerId' 'Survived' 'Pclass' 'Name' 'Sex' 'Age' 'SibSp' 'Parch'\n",
      " 'Ticket' 'Fare' 'Cabin' 'Embarked']\n"
     ]
    },
    {
     "data": {
      "text/html": [
       "<div>\n",
       "<table border=\"1\" class=\"dataframe\">\n",
       "  <thead>\n",
       "    <tr style=\"text-align: right;\">\n",
       "      <th></th>\n",
       "      <th>PassengerId</th>\n",
       "      <th>Survived</th>\n",
       "      <th>Pclass</th>\n",
       "      <th>Name</th>\n",
       "      <th>Sex</th>\n",
       "      <th>Age</th>\n",
       "      <th>SibSp</th>\n",
       "      <th>Parch</th>\n",
       "      <th>Ticket</th>\n",
       "      <th>Fare</th>\n",
       "      <th>Cabin</th>\n",
       "      <th>Embarked</th>\n",
       "    </tr>\n",
       "  </thead>\n",
       "  <tbody>\n",
       "    <tr>\n",
       "      <th>0</th>\n",
       "      <td>1</td>\n",
       "      <td>0</td>\n",
       "      <td>3</td>\n",
       "      <td>Braund, Mr. Owen Harris</td>\n",
       "      <td>male</td>\n",
       "      <td>22.0</td>\n",
       "      <td>1</td>\n",
       "      <td>0</td>\n",
       "      <td>A/5 21171</td>\n",
       "      <td>7.2500</td>\n",
       "      <td>NaN</td>\n",
       "      <td>S</td>\n",
       "    </tr>\n",
       "    <tr>\n",
       "      <th>1</th>\n",
       "      <td>2</td>\n",
       "      <td>1</td>\n",
       "      <td>1</td>\n",
       "      <td>Cumings, Mrs. John Bradley (Florence Briggs Th...</td>\n",
       "      <td>female</td>\n",
       "      <td>38.0</td>\n",
       "      <td>1</td>\n",
       "      <td>0</td>\n",
       "      <td>PC 17599</td>\n",
       "      <td>71.2833</td>\n",
       "      <td>C85</td>\n",
       "      <td>C</td>\n",
       "    </tr>\n",
       "    <tr>\n",
       "      <th>2</th>\n",
       "      <td>3</td>\n",
       "      <td>1</td>\n",
       "      <td>3</td>\n",
       "      <td>Heikkinen, Miss. Laina</td>\n",
       "      <td>female</td>\n",
       "      <td>26.0</td>\n",
       "      <td>0</td>\n",
       "      <td>0</td>\n",
       "      <td>STON/O2. 3101282</td>\n",
       "      <td>7.9250</td>\n",
       "      <td>NaN</td>\n",
       "      <td>S</td>\n",
       "    </tr>\n",
       "    <tr>\n",
       "      <th>3</th>\n",
       "      <td>4</td>\n",
       "      <td>1</td>\n",
       "      <td>1</td>\n",
       "      <td>Futrelle, Mrs. Jacques Heath (Lily May Peel)</td>\n",
       "      <td>female</td>\n",
       "      <td>35.0</td>\n",
       "      <td>1</td>\n",
       "      <td>0</td>\n",
       "      <td>113803</td>\n",
       "      <td>53.1000</td>\n",
       "      <td>C123</td>\n",
       "      <td>S</td>\n",
       "    </tr>\n",
       "    <tr>\n",
       "      <th>4</th>\n",
       "      <td>5</td>\n",
       "      <td>0</td>\n",
       "      <td>3</td>\n",
       "      <td>Allen, Mr. William Henry</td>\n",
       "      <td>male</td>\n",
       "      <td>35.0</td>\n",
       "      <td>0</td>\n",
       "      <td>0</td>\n",
       "      <td>373450</td>\n",
       "      <td>8.0500</td>\n",
       "      <td>NaN</td>\n",
       "      <td>S</td>\n",
       "    </tr>\n",
       "  </tbody>\n",
       "</table>\n",
       "</div>"
      ],
      "text/plain": [
       "   PassengerId  Survived  Pclass  \\\n",
       "0            1         0       3   \n",
       "1            2         1       1   \n",
       "2            3         1       3   \n",
       "3            4         1       1   \n",
       "4            5         0       3   \n",
       "\n",
       "                                                Name     Sex   Age  SibSp  \\\n",
       "0                            Braund, Mr. Owen Harris    male  22.0      1   \n",
       "1  Cumings, Mrs. John Bradley (Florence Briggs Th...  female  38.0      1   \n",
       "2                             Heikkinen, Miss. Laina  female  26.0      0   \n",
       "3       Futrelle, Mrs. Jacques Heath (Lily May Peel)  female  35.0      1   \n",
       "4                           Allen, Mr. William Henry    male  35.0      0   \n",
       "\n",
       "   Parch            Ticket     Fare Cabin Embarked  \n",
       "0      0         A/5 21171   7.2500   NaN        S  \n",
       "1      0          PC 17599  71.2833   C85        C  \n",
       "2      0  STON/O2. 3101282   7.9250   NaN        S  \n",
       "3      0            113803  53.1000  C123        S  \n",
       "4      0            373450   8.0500   NaN        S  "
      ]
     },
     "execution_count": 33,
     "metadata": {},
     "output_type": "execute_result"
    }
   ],
   "source": [
    "## First peek at the data structure.\n",
    "print \"Number of records: \", len(df), \"\\n\"\n",
    "\n",
    "print \"Variable names:\"\n",
    "print df.columns.values\n",
    "\n",
    "df.head(5)"
   ]
  },
  {
   "cell_type": "code",
   "execution_count": 34,
   "metadata": {
    "collapsed": false
   },
   "outputs": [
    {
     "data": {
      "text/plain": [
       "array([0, 1])"
      ]
     },
     "execution_count": 34,
     "metadata": {},
     "output_type": "execute_result"
    }
   ],
   "source": [
    "df.Survived.unique()"
   ]
  },
  {
   "cell_type": "markdown",
   "metadata": {},
   "source": [
    "##### Variable Descriptions\n",
    "Visitors to this project are welcomed to visit the [Kaggle site](https://www.kaggle.com/c/titanic/data \"Variable description\") for the description of the variables.\n",
    "\n",
    "##### Dependent Variable\n",
    "The dependent variable is identified as _'Survived'_ since we want to know who survived and who did not. Given that the number of passengers is likely different when broken down to different groups, _e.g. by gender_, the comparison by the raw count of survivors will not be easy. For this reason, I will use the proportion of survivors instead of a raw count, so I can apply the same measure and make comparisons across different groups. This measure of proportion will be named as _survival rate_ for a given group and is defined as:\n",
    "\n",
    "Survival rate = Number of survivors / Number of persons within the group considered\n",
    "\n",
    "Since the _Survived_ column is encoded with 1 for having survived the tragedy and 0 otherwise, the simplest way to compute the _survival rate_ is just taking the mean from the _Survived_ column.\n",
    "\n",
    "##### Independent Variables\n",
    "It seems intuitive to consider _'Sex'_, _'Age'_, and '_Pclass'_ as independent variables. These variables relate back to the question of what factors are involved surviving the Titanic tragedy. We note that the _'Sex'_ and '_Pclass'_ variables hold discrete values, whereas the '_Age_' variable is continuous.\n",
    "\n",
    "I am also interested in the survival rate of those who traveled with family. To do this, I will be interpreting that the passenger had family onboard if either the _'SibSp'_ or the _'Parch'_ variable holds a non-zero value. \n",
    "\n",
    "##### Helper Functions\n",
    "The helper function **withFamily()** is coded to assign the family onboard status. The result of this check is stored as a boolean type array into the dataframe, under the variable name _'wFamily'_. \n",
    "\n",
    "The other helper function, **survival_Rate_Table**, is created for repeated use throughout the project. This function takes in the dataframe and its column names as arguments and it returns a table of survival rates."
   ]
  },
  {
   "cell_type": "code",
   "execution_count": 35,
   "metadata": {
    "collapsed": false
   },
   "outputs": [],
   "source": [
    "#### HELPER FUNCTIONS ####\n",
    "\n",
    "def withFamily( df ):\n",
    "    ### Assigns True if passenger traveled with siblings, spouse, parents or children\n",
    "    return np.logical_or(df.SibSp != 0, df.Parch !=0)\n",
    "\n",
    "def survival_Rate_Table( df, indexName, columnName):\n",
    "    ###\n",
    "    ### Function aggregates the data by the levels/categories in 'columnName' and cross-tabulates against \n",
    "    ### the levels/categories in 'indexName'.\n",
    "    ### It returns a cross-tabulated set of survival rate values.\n",
    "    ###\n",
    "    ### See pandas documentation on pivot_table for more information.\n",
    "    ###\n",
    "    ### indexName, columnName: Use variable names that contain the levels/categories to be grouped \n",
    "    ###                        Possible options: 'Pclass', 'Sex', 'AgeGroup', 'wFamily'\n",
    "    ###\n",
    "\n",
    "    ### First Table\n",
    "    table_All = pd.pivot_table(df, \n",
    "                               values = 'Survived', \n",
    "                               index = indexName, \n",
    "                               columns = columnName, \n",
    "                               aggfunc = len)\n",
    "    ### Second Table (For Survivors)\n",
    "    table_Survived = pd.pivot_table(df[df.Survived == 1], \n",
    "                                    values = 'Survived', \n",
    "                                    index = indexName, \n",
    "                                    columns = columnName,\n",
    "                                    aggfunc = len)\n",
    "    ### Element-wise division\n",
    "    return table_Survived.divide(table_All, fill_value = 0)"
   ]
  },
  {
   "cell_type": "markdown",
   "metadata": {},
   "source": [
    "### Data Cleaning"
   ]
  },
  {
   "cell_type": "code",
   "execution_count": 36,
   "metadata": {
    "collapsed": false
   },
   "outputs": [
    {
     "name": "stdout",
     "output_type": "stream",
     "text": [
      "Number of records with no age entry:  177\n"
     ]
    }
   ],
   "source": [
    "### Assigning Family Onboard Status to the records\n",
    "df.loc[:,'wFamily'] = withFamily(df.copy())\n",
    "\n",
    "### Check for Invalid Entries\n",
    "print \"Number of records with no age entry: \", sum(df.Age.isnull())"
   ]
  },
  {
   "cell_type": "markdown",
   "metadata": {},
   "source": [
    "There are 177 passenger records with no record of age. These records will be discarded for the sake of carrying out age-related analyses, as well as for the sake of a consistent, tidy data. I feel that the intended loss of information is acceptable because the dataset is not complete to begin with and I think the age variable is important, from which a lot of information can be uncovered."
   ]
  },
  {
   "cell_type": "code",
   "execution_count": 37,
   "metadata": {
    "collapsed": false
   },
   "outputs": [
    {
     "name": "stdout",
     "output_type": "stream",
     "text": [
      "714\n"
     ]
    }
   ],
   "source": [
    "### Remove records without an age entry\n",
    "df = df[df.Age.notnull()]\n",
    "print len(df)"
   ]
  },
  {
   "cell_type": "markdown",
   "metadata": {},
   "source": [
    "### First Look - Titanic Passengers Demographics"
   ]
  },
  {
   "cell_type": "code",
   "execution_count": 38,
   "metadata": {
    "collapsed": false
   },
   "outputs": [
    {
     "name": "stdout",
     "output_type": "stream",
     "text": [
      "count    714.000000\n",
      "mean      29.699118\n",
      "std       14.526497\n",
      "min        0.420000\n",
      "25%       20.125000\n",
      "50%       28.000000\n",
      "75%       38.000000\n",
      "max       80.000000\n",
      "Name: Age, dtype: float64\n",
      "\n",
      "Overall survival rate:  0.406162464986\n"
     ]
    },
    {
     "data": {
      "text/plain": [
       "<matplotlib.text.Text at 0x11cfd0790>"
      ]
     },
     "execution_count": 38,
     "metadata": {},
     "output_type": "execute_result"
    },
    {
     "data": {
      "image/png": "[encoded data removed]",
      "text/plain": [
       "<matplotlib.figure.Figure at 0x11d344d90>"
      ]
     },
     "metadata": {},
     "output_type": "display_data"
    }
   ],
   "source": [
    "### Statistical summary of age records\n",
    "print df.Age.describe()\n",
    "\n",
    "print \"\\nOverall survival rate: \", df.Survived.mean() \n",
    "\n",
    "### Histogram plot: passenger age records\n",
    "plt.hist(df.Age)\n",
    "plt.xlabel('Age')\n",
    "plt.title('Histogram of Passenger Age Records')"
   ]
  },
  {
   "cell_type": "markdown",
   "metadata": {},
   "source": [
    "This dataset reveals that the overall survival rate is only 0.406. History tells us that there are 722 survivors out of 2224 passengers and crew, which equates to a survival rate of 0.325. We will proceed to find out whether or not there is a significant difference in the survival rates between the dataset and history record."
   ]
  },
  {
   "cell_type": "code",
   "execution_count": 39,
   "metadata": {
    "collapsed": false
   },
   "outputs": [
    {
     "name": "stdout",
     "output_type": "stream",
     "text": [
      "p-value:  1.02032511804e-05\n"
     ]
    }
   ],
   "source": [
    "### Statistical Test: One Sample Z-Test\n",
    "import statsmodels.stats.weightstats as stats\n",
    "z_score, p_val = stats.ztest(df.Survived, value = 0.325)\n",
    "\n",
    "print \"p-value: \", p_val"
   ]
  },
  {
   "cell_type": "markdown",
   "metadata": {},
   "source": [
    "The p-value indicates that the survival rate from this dataset is significantly different from what is known from  history. Unfortunately, this could mean it is not advisable to use this dataset to represent the rest in the Titanic tragedy. For now, we will bear this in mind."
   ]
  },
  {
   "cell_type": "code",
   "execution_count": 40,
   "metadata": {
    "collapsed": false
   },
   "outputs": [
    {
     "name": "stdout",
     "output_type": "stream",
     "text": [
      "No. of male passengers:  453\n",
      "No. of female passengers:  261\n",
      "\n",
      "Male-to-Female ratio:  1.73563218391\n"
     ]
    },
    {
     "data": {
      "image/png": "[encoded data removed]",
      "text/plain": [
       "<matplotlib.figure.Figure at 0x11d0acb50>"
      ]
     },
     "metadata": {},
     "output_type": "display_data"
    }
   ],
   "source": [
    "print \"No. of male passengers: \", len(df[df.Sex == 'male'])\n",
    "print \"No. of female passengers: \", len(df[df.Sex == 'female'])                                         \n",
    "print \"\\nMale-to-Female ratio: \", len(df[df.Sex == 'male'])/float(len(df[df.Sex == 'female']))\n",
    "\n",
    "### Histogram plot: age records, grouped by gender\n",
    "plot = df.hist(column = 'Age', by = 'Sex')\n",
    "\n",
    "plot = plot.ravel()\n",
    "\n",
    "for idx, ax in enumerate(plot):\n",
    "    ax.set_xlabel('Age')\n"
   ]
  },
  {
   "cell_type": "markdown",
   "metadata": {},
   "source": [
    "The age distributions between the male and female passengers are quite similar to the overall age distribution, but the male-to-female ratio value shows that the number of male passengers is much higher than the female passengers. The dataset also reveals that the majority of the male passengers are aged between 20 and 50. This would not be surprising. Migrants to the United States from the British Isles in the early 20th century were mainly male workers."
   ]
  },
  {
   "cell_type": "markdown",
   "metadata": {},
   "source": [
    "### Gender"
   ]
  },
  {
   "cell_type": "code",
   "execution_count": 41,
   "metadata": {
    "collapsed": false
   },
   "outputs": [
    {
     "name": "stdout",
     "output_type": "stream",
     "text": [
      "Survival Rate (male):  0.205298013245\n",
      "Survival Rate (female):  0.754789272031\n",
      "\n",
      "Labels: \n",
      "1 - Survivor \n",
      "0 - Non-survivor\n"
     ]
    },
    {
     "data": {
      "image/png": "[encoded data removed]",
      "text/plain": [
       "<matplotlib.figure.Figure at 0x11d224990>"
      ]
     },
     "metadata": {},
     "output_type": "display_data"
    }
   ],
   "source": [
    "print \"Survival Rate (male): \", df[df.Sex == 'male'].Survived.mean()\n",
    "print \"Survival Rate (female): \", df[df.Sex == 'female'].Survived.mean()\n",
    "\n",
    "### Plot age histograms grouped by gender and 'Survived' status\n",
    "plot = df.hist(column = 'Age', by = ['Sex','Survived'], sharex = True, sharey = True)\n",
    "\n",
    "plot = plot.ravel()\n",
    "\n",
    "for idx, ax in enumerate(plot):\n",
    "    ax.set_xlabel('Age')\n",
    "    \n",
    "print \"\\nLabels: \\n1 - Survivor \\n0 - Non-survivor\""
   ]
  },
  {
   "cell_type": "code",
   "execution_count": 42,
   "metadata": {
    "collapsed": false
   },
   "outputs": [
    {
     "name": "stdout",
     "output_type": "stream",
     "text": [
      "p-value:  5.2247099268e-55\n"
     ]
    }
   ],
   "source": [
    "### Statistical Test: Two sample t-test\n",
    "t_score, p_val, dof = stats.ttest_ind(df[df.Sex == 'female'].Survived, df[df.Sex == 'male'].Survived)\n",
    "\n",
    "print \"p-value: \", p_val"
   ]
  },
  {
   "cell_type": "markdown",
   "metadata": {},
   "source": [
    "Undoubtedly, the data shows that the survival rate for the male passenger is much lower than for the female passenger. \n",
    "\n",
    "In my opinion, the size of the male and female passenger groups are large enough to call for a z-test (Sample size >> 30), but I acknowledge that the t-test may later be used as I work with smaller groups. As a matter of convenience, I have decided to use the t-test for the rest of this project since the t-test in the statsmodels package will account for the degrees-of-freedom regardless of sample size."
   ]
  },
  {
   "cell_type": "markdown",
   "metadata": {},
   "source": [
    "### Age Group\n",
    "\n",
    "The set of age records, which ranges between 0.42 and 80, will be a numerous list of values. Therefore I find it necessary to first group the age records into several bins before proceeding to obtain the survival rates. To do this, I have used the _cut_ function in pandas and defined the following age groups:\n",
    "* _12 and below (Child)_\n",
    "* _Between 12 and 20 (Youth)_\n",
    "* _Between 20 and 35 (Young adult)_\n",
    "* _Between 35 and 50 (Adult)_\n",
    "* _Above 50 (Senior)_\n",
    "\n",
    "I will next use the **survival_Rate_Table()** helper function to get the survival rates. This function cross-tabulates the _'Sex'_ variable against the _'AgeGroup'_ variable, so that I can compare the survival rates for the male and female passengers across the age groups that I have now defined."
   ]
  },
  {
   "cell_type": "code",
   "execution_count": 43,
   "metadata": {
    "collapsed": true
   },
   "outputs": [],
   "source": [
    "### Bins and labels\n",
    "age_Bins = [0, 12, 20, 35, 50, df.Age.max()]\n",
    "age_Labels = ['Child', 'Youth', 'Young adult', 'Adult', 'Senior']\n",
    "\n",
    "### Assignment of age group labels to records\n",
    "df.loc[:,'AgeGroup'] = pd.cut(df.Age.copy(),age_Bins, labels=age_Labels)\n"
   ]
  },
  {
   "cell_type": "code",
   "execution_count": 44,
   "metadata": {
    "collapsed": false
   },
   "outputs": [
    {
     "name": "stdout",
     "output_type": "stream",
     "text": [
      "Sex            female      male\n",
      "AgeGroup                       \n",
      "Child        0.593750  0.567568\n",
      "Youth        0.755556  0.123077\n",
      "Young adult  0.783784  0.183575\n",
      "Adult        0.732143  0.206186\n",
      "Senior       0.941176  0.127660\n"
     ]
    },
    {
     "data": {
      "text/plain": [
       "<matplotlib.text.Text at 0x11d5cdc10>"
      ]
     },
     "execution_count": 44,
     "metadata": {},
     "output_type": "execute_result"
    },
    {
     "data": {
      "image/png": "[encoded data removed]",
      "text/plain": [
       "<matplotlib.figure.Figure at 0x11d1e6110>"
      ]
     },
     "metadata": {},
     "output_type": "display_data"
    }
   ],
   "source": [
    "### Survival rates by age group\n",
    "table_AgeGroup = survival_Rate_Table(df, 'AgeGroup', 'Sex')\n",
    "print table_AgeGroup\n",
    "table_AgeGroup.plot().set_ylabel('Survival Rate')"
   ]
  },
  {
   "cell_type": "markdown",
   "metadata": {},
   "source": [
    "The female passenger survival rate is higher than the male passenger in every age group, but for the _'Child'_ group, I cannot be sure if the difference is significant. In the following, I carry out a check on the difference in the survival rate between the male child and female child."
   ]
  },
  {
   "cell_type": "code",
   "execution_count": 45,
   "metadata": {
    "collapsed": false
   },
   "outputs": [
    {
     "name": "stdout",
     "output_type": "stream",
     "text": [
      "Number of males:  37\n",
      "Number of females:  32\n",
      "\n",
      "p-value:  0.829182976961\n"
     ]
    }
   ],
   "source": [
    "child = df[df.AgeGroup == 'Child']\n",
    "\n",
    "print \"Number of males: \", len(child[child.Sex == 'male'])\n",
    "print \"Number of females: \", len(child[child.Sex == 'female'])\n",
    "\n",
    "# Statistical Test: Two sample t-test\n",
    "t_score, p_val, dof = stats.ttest_ind(child[child.Sex == 'female'].Survived, child[child.Sex == 'male'].Survived)\n",
    "\n",
    "print \"\\np-value: \", p_val"
   ]
  },
  {
   "cell_type": "markdown",
   "metadata": {},
   "source": [
    "The p-value indicates that there is no significant difference in the survival rate between the male child and the female child."
   ]
  },
  {
   "cell_type": "markdown",
   "metadata": {},
   "source": [
    "### Passenger Class"
   ]
  },
  {
   "cell_type": "code",
   "execution_count": 46,
   "metadata": {
    "collapsed": false
   },
   "outputs": [
    {
     "data": {
      "text/plain": [
       "<matplotlib.text.Text at 0x11cfbcad0>"
      ]
     },
     "execution_count": 46,
     "metadata": {},
     "output_type": "execute_result"
    },
    {
     "data": {
      "image/png": "[encoded data removed]",
      "text/plain": [
       "<matplotlib.figure.Figure at 0x11de62550>"
      ]
     },
     "metadata": {},
     "output_type": "display_data"
    }
   ],
   "source": [
    "### Passenger class assignment\n",
    "tickets = pd.pivot_table(df, values = 'Ticket', index = 'Pclass', aggfunc = len).astype(int)\n",
    "tickets.plot(kind='bar').set_ylabel('No. of tickets')\n"
   ]
  },
  {
   "cell_type": "code",
   "execution_count": 47,
   "metadata": {
    "collapsed": false
   },
   "outputs": [
    {
     "name": "stdout",
     "output_type": "stream",
     "text": [
      "Mean ticket fare by Pclass:\n",
      "Pclass\n",
      "1    87.961582\n",
      "2    21.471556\n",
      "3    13.229435\n",
      "Name: Fare, dtype: float64\n",
      "\n",
      "Survival rate by Pclass:\n",
      "Pclass\n",
      "1    0.655914\n",
      "2    0.479769\n",
      "3    0.239437\n",
      "Name: Survived, dtype: float64\n"
     ]
    }
   ],
   "source": [
    "### Average ticket price and survival rate by passenger class\n",
    "mean_fares = pd.pivot_table(df, values = 'Fare', index = 'Pclass', aggfunc = np.mean)\n",
    "\n",
    "print \"Mean ticket fare by Pclass:\\n\", mean_fares\n",
    "print \"\\nSurvival rate by Pclass:\\n\", survival_Rate_Table(df, 'Pclass', None)"
   ]
  },
  {
   "cell_type": "code",
   "execution_count": 48,
   "metadata": {
    "collapsed": false
   },
   "outputs": [
    {
     "name": "stdout",
     "output_type": "stream",
     "text": [
      "p-value (Class 1 vs 2):  0.000712492707275\n",
      "p-value (Class 2 vs 3):  1.74186940763e-08\n"
     ]
    }
   ],
   "source": [
    "### Statistical tests \n",
    "t_score, p_val1, dof = stats.ttest_ind(df[df.Pclass == 1].Survived, df[df.Pclass == 2].Survived)\n",
    "t_score, p_val2, dof = stats.ttest_ind(df[df.Pclass == 2].Survived, df[df.Pclass == 3].Survived)\n",
    "\n",
    "print \"p-value (Class 1 vs 2): \", p_val1\n",
    "print \"p-value (Class 2 vs 3): \", p_val2"
   ]
  },
  {
   "cell_type": "code",
   "execution_count": 49,
   "metadata": {
    "collapsed": false
   },
   "outputs": [
    {
     "name": "stdout",
     "output_type": "stream",
     "text": [
      "Pclass         1         2         3\n",
      "Sex                                 \n",
      "female  0.964706  0.918919  0.460784\n",
      "male    0.396040  0.151515  0.150198\n"
     ]
    },
    {
     "data": {
      "text/plain": [
       "<matplotlib.text.Text at 0x11dd54f90>"
      ]
     },
     "execution_count": 49,
     "metadata": {},
     "output_type": "execute_result"
    },
    {
     "data": {
      "image/png": "[encoded data removed]",
      "text/plain": [
       "<matplotlib.figure.Figure at 0x11e8a5b10>"
      ]
     },
     "metadata": {},
     "output_type": "display_data"
    }
   ],
   "source": [
    "### Survival rates by class and sex\n",
    "table_Class = survival_Rate_Table(df, 'Sex', 'Pclass')\n",
    "print table_Class\n",
    "table_Class.plot().set_ylabel('Survival Rate')"
   ]
  },
  {
   "cell_type": "markdown",
   "metadata": {},
   "source": [
    "Most Titanic tickets were sold under _Pclass 3_, which were the cheapest on the average. Among the three class levels, the class 1 group corresponds with the highest survival rate, followed by class 2, and class 3. (Significance of results checked.)\n",
    "\n",
    "For a simple comparison without checking on the significance of the results, female passengers have higher survival rates over male passengers in every class level."
   ]
  },
  {
   "cell_type": "markdown",
   "metadata": {},
   "source": [
    "### Traveling with Family\n",
    " \n"
   ]
  },
  {
   "cell_type": "code",
   "execution_count": 50,
   "metadata": {
    "collapsed": false
   },
   "outputs": [
    {
     "name": "stdout",
     "output_type": "stream",
     "text": [
      "Sex        female      male\n",
      "wFamily                    \n",
      "False    0.790000  0.167763\n",
      "True     0.732919  0.281879\n"
     ]
    },
    {
     "data": {
      "text/plain": [
       "<matplotlib.text.Text at 0x11e0ae450>"
      ]
     },
     "execution_count": 50,
     "metadata": {},
     "output_type": "execute_result"
    },
    {
     "data": {
      "image/png": "[encoded data removed]",
      "text/plain": [
       "<matplotlib.figure.Figure at 0x11e8c1ad0>"
      ]
     },
     "metadata": {},
     "output_type": "display_data"
    }
   ],
   "source": [
    "### Survival rates by family onboard status\n",
    "table_Family = survival_Rate_Table(df, 'wFamily', 'Sex')\n",
    "print table_Family\n",
    "table_Family.plot().set_ylabel('Survival Rate')"
   ]
  },
  {
   "cell_type": "code",
   "execution_count": 51,
   "metadata": {
    "collapsed": false
   },
   "outputs": [
    {
     "name": "stdout",
     "output_type": "stream",
     "text": [
      "Number of passengers traveling with family:  310\n",
      "Survival rate:  0.516129032258\n",
      "\n",
      "Number of passengers not traveling with family:  404\n",
      "Survival rate:  0.321782178218\n",
      "\n",
      "p-value:  1.26916682625e-07\n"
     ]
    }
   ],
   "source": [
    "print \"Number of passengers traveling with family: \", len(df[df.wFamily])\n",
    "print \"Survival rate: \", df[df.wFamily].Survived.mean()\n",
    "\n",
    "print \"\\nNumber of passengers not traveling with family: \", len(df[~df.wFamily])\n",
    "print \"Survival rate: \", df[~df.wFamily].Survived.mean()\n",
    "\n",
    "### Statistical test on survival rates\n",
    "t_score, p_val, dof = stats.ttest_ind(df[df.wFamily].Survived, df[~df.wFamily].Survived)\n",
    "\n",
    "print \"\\np-value: \", p_val"
   ]
  },
  {
   "cell_type": "markdown",
   "metadata": {},
   "source": [
    "Overall, the survival rate is better for a passenger traveling with family and the difference is significant. We also note that the female passenger still has a higher survival rate than the male passenger, with or without family onboard."
   ]
  },
  {
   "cell_type": "markdown",
   "metadata": {},
   "source": [
    "## Conclusion\n",
    "\n",
    "As an exploratory exercise, I observe that the female passenger has better survival rate than the male passenger overall. This is also the case when I compare the female passenger survival rate across age groups, passenger classes, family onboard status.\n",
    "\n",
    "While not all my observations are statistically tested for significance, for the ones that I did test, I observe that: \n",
    "- the male child, aged 12 and below, has similar survival rate to the female child,\n",
    "- the ranking of survival rate by passenger class has the order: Class 1 > Class 2 > Class 3, and\n",
    "- passengers who traveled with family have better survival rate than those who did not during the Titanic tragedy.\n",
    "\n",
    "I have also statistically tested that the overall survival rate from this dataset is significantly different from the survival rate known from history. Therefore, caution should be exercised when using this analysis to represent the entire Titanic tragedy.\n"
   ]
  },
  {
   "cell_type": "markdown",
   "metadata": {},
   "source": [
    "## Reflections\n",
    "\n",
    "As I worked on this project, the initial difficulty I faced manipulating pandas dataframes was my tendency to hardcode the interactions among columns and indexes. As I explored the pandas package further, I slowly discovered pandas functions that can help shorten the coding process. Still, there are times when I find coding it with pandas functions can get quite clunky, especially when carrying out array comparison operations. That lead me to discover that it can be more efficient to switch over to numpy functions instead.\n",
    "\n",
    "The greatest difficulty I face is deciding what to present. I find that one-variable exploration does not get very deep. There is more depth when combined with another variable. But when faced with several variables, the combination of variables increases a lot quickly. The time taken to explore the dataset also lengthens greatly. And with so many combinations to choose from, the effort to summarize the findings also greatly increases."
   ]
  },
  {
   "cell_type": "markdown",
   "metadata": {},
   "source": [
    "## References\n",
    "\n",
    "* Dataset. In _Kaggle_. Retrieved July 3, 2016, from https://www.kaggle.com/c/titanic/data\n",
    "* RMS Titanic. In _Wikipedia_. Retrieved September 5, 2016, from https://en.wikipedia.org/wiki/RMS_Titanic\n",
    "* Wreck of the RMS Titanic. In _Wikipedia_. Retrieved September 5, 2016, from https://en.wikipedia.org/wiki/Wreck_of_the_RMS_Titanic\n",
    "* Thomas, B.: _Migration and Economic Growth: A Study of Great Britain and the Atlantic Economy._ Cambridge University Press, Cambridge, 1954."
   ]
  }
 ],
 "metadata": {
  "kernelspec": {
   "display_name": "Python 2",
   "language": "python",
   "name": "python2"
  },
  "language_info": {
   "codemirror_mode": {
    "name": "ipython",
    "version": 2
   },
   "file_extension": ".py",
   "mimetype": "text/x-python",
   "name": "python",
   "nbconvert_exporter": "python",
   "pygments_lexer": "ipython2",
   "version": "2.7.11"
  }
 },
 "nbformat": 4,
 "nbformat_minor": 0
}
